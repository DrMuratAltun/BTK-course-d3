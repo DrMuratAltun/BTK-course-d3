{
 "cells": [
  {
   "cell_type": "code",
   "execution_count": 2,
   "metadata": {
    "colab": {
     "base_uri": "https://localhost:8080/"
    },
    "collapsed": true,
    "executionInfo": {
     "elapsed": 8835,
     "status": "ok",
     "timestamp": 1709140962477,
     "user": {
      "displayName": "Murat ALTUN",
      "userId": "12221625774094426641"
     },
     "user_tz": -180
    },
    "id": "u1iBTMBqvM0n",
    "outputId": "6a24d839-040e-4997-dd08-65914fe6daf8"
   },
   "outputs": [
    {
     "name": "stdout",
     "output_type": "stream",
     "text": [
      "Collecting gtts\n",
      "  Downloading gTTS-2.5.1-py3-none-any.whl (29 kB)\n",
      "Requirement already satisfied: requests<3,>=2.27 in /usr/local/lib/python3.10/dist-packages (from gtts) (2.31.0)\n",
      "Requirement already satisfied: click<8.2,>=7.1 in /usr/local/lib/python3.10/dist-packages (from gtts) (8.1.7)\n",
      "Requirement already satisfied: charset-normalizer<4,>=2 in /usr/local/lib/python3.10/dist-packages (from requests<3,>=2.27->gtts) (3.3.2)\n",
      "Requirement already satisfied: idna<4,>=2.5 in /usr/local/lib/python3.10/dist-packages (from requests<3,>=2.27->gtts) (3.6)\n",
      "Requirement already satisfied: urllib3<3,>=1.21.1 in /usr/local/lib/python3.10/dist-packages (from requests<3,>=2.27->gtts) (2.0.7)\n",
      "Requirement already satisfied: certifi>=2017.4.17 in /usr/local/lib/python3.10/dist-packages (from requests<3,>=2.27->gtts) (2024.2.2)\n",
      "Installing collected packages: gtts\n",
      "Successfully installed gtts-2.5.1\n"
     ]
    }
   ],
   "source": [
    "pip install gtts"
   ]
  },
  {
   "cell_type": "code",
   "execution_count": 1,
   "metadata": {
    "executionInfo": {
     "elapsed": 436,
     "status": "ok",
     "timestamp": 1709140962910,
     "user": {
      "displayName": "Murat ALTUN",
      "userId": "12221625774094426641"
     },
     "user_tz": -180
    },
    "id": "X-hRZfySuTFK"
   },
   "outputs": [],
   "source": [
    "from gtts import gTTS"
   ]
  },
  {
   "cell_type": "code",
   "execution_count": 7,
   "metadata": {},
   "outputs": [
    {
     "name": "stdout",
     "output_type": "stream",
     "text": [
      "Help on class gTTS in module gtts.tts:\n",
      "\n",
      "class gTTS(builtins.object)\n",
      " |  gTTS(text, tld='com', lang='en', slow=False, lang_check=True, pre_processor_funcs=[<function tone_marks at 0x00000243F51BD3A0>, <function end_of_line at 0x00000243F51BDE40>, <function abbreviations at 0x00000243F51BD260>, <function word_sub at 0x00000243F51BDEE0>], tokenizer_func=<bound method Tokenizer.run of re.compile('(?<=\\\\?).|(?<=!).|(?<=？).|(?<=！).|(?<!\\\\.[a-z])\\\\. |(?<!\\\\.[a-z]), |(?<!\\\\d):|—|‥|\\\\]|\\\\(|\\\\\\n|\\\\)|\\\\[|¡|…|¿|、|،|：|。|，|;', re.IGNORECASE) from: [<function tone_marks at 0x00000243F51BE020>, <function period_comma at 0x00000243F51BE0C0>, <function colon at 0x00000243F51BE160>, <function other_punctuation at 0x00000243F51BE200>]>, timeout=None)\n",
      " |  \n",
      " |  gTTS -- Google Text-to-Speech.\n",
      " |  \n",
      " |  An interface to Google Translate's Text-to-Speech API.\n",
      " |  \n",
      " |  Args:\n",
      " |      text (string): The text to be read.\n",
      " |      tld (string): Top-level domain for the Google Translate host,\n",
      " |          i.e `https://translate.google.<tld>`. Different Google domains\n",
      " |          can produce different localized 'accents' for a given\n",
      " |          language. This is also useful when ``google.com`` might be blocked\n",
      " |          within a network but a local or different Google host\n",
      " |          (e.g. ``google.com.hk``) is not. Default is ``com``.\n",
      " |      lang (string, optional): The language (IETF language tag) to\n",
      " |          read the text in. Default is ``en``.\n",
      " |      slow (bool, optional): Reads text more slowly. Defaults to ``False``.\n",
      " |      lang_check (bool, optional): Strictly enforce an existing ``lang``,\n",
      " |          to catch a language error early. If set to ``True``,\n",
      " |          a ``ValueError`` is raised if ``lang`` doesn't exist.\n",
      " |          Setting ``lang_check`` to ``False`` skips Web requests\n",
      " |          (to validate language) and therefore speeds up instantiation.\n",
      " |          Default is ``True``.\n",
      " |      pre_processor_funcs (list): A list of zero or more functions that are\n",
      " |          called to transform (pre-process) text before tokenizing. Those\n",
      " |          functions must take a string and return a string. Defaults to::\n",
      " |  \n",
      " |              [\n",
      " |                  pre_processors.tone_marks,\n",
      " |                  pre_processors.end_of_line,\n",
      " |                  pre_processors.abbreviations,\n",
      " |                  pre_processors.word_sub\n",
      " |              ]\n",
      " |  \n",
      " |      tokenizer_func (callable): A function that takes in a string and\n",
      " |          returns a list of string (tokens). Defaults to::\n",
      " |  \n",
      " |              Tokenizer([\n",
      " |                  tokenizer_cases.tone_marks,\n",
      " |                  tokenizer_cases.period_comma,\n",
      " |                  tokenizer_cases.colon,\n",
      " |                  tokenizer_cases.other_punctuation\n",
      " |              ]).run\n",
      " |  \n",
      " |      timeout (float or tuple, optional): Seconds to wait for the server to\n",
      " |          send data before giving up, as a float, or a ``(connect timeout,\n",
      " |          read timeout)`` tuple. ``None`` will wait forever (default).\n",
      " |  \n",
      " |  See Also:\n",
      " |      :doc:`Pre-processing and tokenizing <tokenizer>`\n",
      " |  \n",
      " |  Raises:\n",
      " |      AssertionError: When ``text`` is ``None`` or empty; when there's nothing\n",
      " |          left to speak after pre-precessing, tokenizing and cleaning.\n",
      " |      ValueError: When ``lang_check`` is ``True`` and ``lang`` is not supported.\n",
      " |      RuntimeError: When ``lang_check`` is ``True`` but there's an error loading\n",
      " |          the languages dictionary.\n",
      " |  \n",
      " |  Methods defined here:\n",
      " |  \n",
      " |  __init__(self, text, tld='com', lang='en', slow=False, lang_check=True, pre_processor_funcs=[<function tone_marks at 0x00000243F51BD3A0>, <function end_of_line at 0x00000243F51BDE40>, <function abbreviations at 0x00000243F51BD260>, <function word_sub at 0x00000243F51BDEE0>], tokenizer_func=<bound method Tokenizer.run of re.compile('(?<=\\\\?).|(?<=!).|(?<=？).|(?<=！).|(?<!\\\\.[a-z])\\\\. |(?<!\\\\.[a-z]), |(?<!\\\\d):|—|‥|\\\\]|\\\\(|\\\\\\n|\\\\)|\\\\[|¡|…|¿|、|،|：|。|，|;', re.IGNORECASE) from: [<function tone_marks at 0x00000243F51BE020>, <function period_comma at 0x00000243F51BE0C0>, <function colon at 0x00000243F51BE160>, <function other_punctuation at 0x00000243F51BE200>]>, timeout=None)\n",
      " |      Initialize self.  See help(type(self)) for accurate signature.\n",
      " |  \n",
      " |  get_bodies(self)\n",
      " |      Get TTS API request bodies(s) that would be sent to the TTS API.\n",
      " |      \n",
      " |      Returns:\n",
      " |          list: A list of TTS API request bodies to make.\n",
      " |  \n",
      " |  save(self, savefile)\n",
      " |      Do the TTS API request and write result to file.\n",
      " |      \n",
      " |      Args:\n",
      " |          savefile (string): The path and file name to save the ``mp3`` to.\n",
      " |      \n",
      " |      Raises:\n",
      " |          :class:`gTTSError`: When there's an error with the API request.\n",
      " |  \n",
      " |  stream(self)\n",
      " |      Do the TTS API request(s) and stream bytes\n",
      " |      \n",
      " |      Raises:\n",
      " |          :class:`gTTSError`: When there's an error with the API request.\n",
      " |  \n",
      " |  write_to_fp(self, fp)\n",
      " |      Do the TTS API request(s) and write bytes to a file-like object.\n",
      " |      \n",
      " |      Args:\n",
      " |          fp (file object): Any file-like object to write the ``mp3`` to.\n",
      " |      \n",
      " |      Raises:\n",
      " |          :class:`gTTSError`: When there's an error with the API request.\n",
      " |          TypeError: When ``fp`` is not a file-like object that takes bytes.\n",
      " |  \n",
      " |  ----------------------------------------------------------------------\n",
      " |  Data descriptors defined here:\n",
      " |  \n",
      " |  __dict__\n",
      " |      dictionary for instance variables (if defined)\n",
      " |  \n",
      " |  __weakref__\n",
      " |      list of weak references to the object (if defined)\n",
      " |  \n",
      " |  ----------------------------------------------------------------------\n",
      " |  Data and other attributes defined here:\n",
      " |  \n",
      " |  GOOGLE_TTS_HEADERS = {'Content-Type': 'application/x-www-form-urlencod...\n",
      " |  \n",
      " |  GOOGLE_TTS_MAX_CHARS = 100\n",
      " |  \n",
      " |  GOOGLE_TTS_RPC = 'jQ1olc'\n",
      "\n"
     ]
    }
   ],
   "source": [
    "help(gTTS)"
   ]
  },
  {
   "cell_type": "code",
   "execution_count": 9,
   "metadata": {
    "executionInfo": {
     "elapsed": 1392,
     "status": "ok",
     "timestamp": 1709140997376,
     "user": {
      "displayName": "Murat ALTUN",
      "userId": "12221625774094426641"
     },
     "user_tz": -180
    },
    "id": "i4OTWtKWvHxv"
   },
   "outputs": [],
   "source": [
    "text='''\n",
    "Merhaba nasılsınız? Ben yayapay zeka asistanıyım. Size\n",
    "nasıl yardımcı olabilirim?\n",
    "'''\n",
    "kayit=gTTS(text=text, lang='hi', slow=False)\n",
    "kayit.save(\"seslendirme_hi.mp3\") #Ru accent Turkissh speech"
   ]
  },
  {
   "cell_type": "code",
   "execution_count": 5,
   "metadata": {
    "executionInfo": {
     "elapsed": 502,
     "status": "ok",
     "timestamp": 1709141271758,
     "user": {
      "displayName": "Murat ALTUN",
      "userId": "12221625774094426641"
     },
     "user_tz": -180
    },
    "id": "jTLGRqanwJeb"
   },
   "outputs": [],
   "source": [
    "text='''\n",
    "Hyperotomasyon ve RPA Kursu Hakkında Özet\n",
    "Hoş geldiniz! Bu benzersiz Hyperotomasyon ve RPA kursunda, modern robotik ve otomasyon teknolojilerinin sınırları zorladığını keşfedeceğiz. Bu yenilikler, şirketlerimizde, kurumlarımızda, ekonomimizde ve toplumumuzda manuel görevlerin otomasyonunu mümkün kılıyor.\n",
    "Konuştuğumuz teknolojiler arasında yazılım botları, bilişsel yapay zeka çözümleri, süreç ve görev madenciliği ile gelişmiş analitikler bulunuyor. Ayrıca Nesnelerin İnterneti (IoT), giyilebilir cihazlar gibi teknolojiler de bu kapsamda yer alıyor. Bu teknolojiler arasında Robotic Process Automation (RPA), özellikle belirgin bir mega trendi temsil ediyor. Ekonomimiz ve toplumumuzun her alanına giriş yapacak olan muhtemelen ilk yapay zeka segmenti.\n",
    "Uzmanlar, yaşamımızın birçok alanında önümüzdeki 20 yıl içinde insan görevlerinin %40 ila %50’sinin modern teknolojiler tarafından otomatikleştirileceğini söylüyor. Bu nedenle birçok insan, mevcut işlerini makinelerin kısmen devralacağı bir şekilde değiştirmek zorunda kalacak. Öte yandan, kodlayıcılar ve programcılar gibi teknik insanlar için değil, her alanda ve sektörde tamamen yeni iş ve kariyer fırsatları ortaya çıkıyor. Daha fazla insanın bu teknolojileri anlayabilmesi ve süreçleri daha hızlı, daha verimli ve daha iyi hale getirebilmek için nerede, ne zaman ve nasıl kullanacağını belirleyebilmesi gerekiyor.\n",
    "Bu kurs, üç saygın katkıda bulunanın harika bir işbirliğini temsil ediyor. İlk olarak, İsviçre merkezli AI Business School, yapay zeka, robotik ve veri alanında dünya lideri kurumlardan biri. AI Business School, kanıtlanmış İsviçre kalitesinde dersler sunacak ve akıllı hiperotomasyonun ne olduğuna dair sağlam bir yapısal genel bakış sunacak.\n",
    "'''\n"
   ]
  },
  {
   "cell_type": "code",
   "execution_count": 7,
   "metadata": {
    "executionInfo": {
     "elapsed": 6937,
     "status": "ok",
     "timestamp": 1709141402763,
     "user": {
      "displayName": "Murat ALTUN",
      "userId": "12221625774094426641"
     },
     "user_tz": -180
    },
    "id": "VSEdoEJcwjZA"
   },
   "outputs": [],
   "source": [
    "kayit=gTTS(text=text, lang='tr', slow=False)\n",
    "kayit.save(\"kurs_ozet.mp3\")"
   ]
  },
  {
   "cell_type": "code",
   "execution_count": 45,
   "metadata": {
    "id": "08QCICMWwopc"
   },
   "outputs": [
    {
     "name": "stdout",
     "output_type": "stream",
     "text": [
      "Merhaba ben yapay zekâ asistanınızım. beteka Akademi tarafından Antalyada düzenlenen Python ile İleri Makine Öğrenmesi Atölyesine hoşgeldiniz.\n"
     ]
    }
   ],
   "source": [
    "str=\"\"\n",
    "with open('konusma.txt','r',encoding='utf-8') as file:\n",
    "    for line in file:\n",
    "        #print(line)\n",
    "        str+=line\n",
    "print (str)"
   ]
  },
  {
   "cell_type": "code",
   "execution_count": 46,
   "metadata": {},
   "outputs": [],
   "source": [
    "import random\n",
    "def seslendir(text,seslendirme_aksani='tr'):\n",
    "    kayit=gTTS(text=text, lang=seslendirme_aksani, slow=False)\n",
    "    try:\n",
    "        kayit.save(\"{}_seslendirme.mp3\".format(random.randint(0,1000)))\n",
    "        print('Ses kaydedildi')\n",
    "        \n",
    "    except:\n",
    "        print(\"Ses kaydedilemedi\")"
   ]
  },
  {
   "cell_type": "code",
   "execution_count": 47,
   "metadata": {},
   "outputs": [
    {
     "name": "stdout",
     "output_type": "stream",
     "text": [
      "Ses kaydedildi\n"
     ]
    }
   ],
   "source": [
    "seslendir(str)"
   ]
  },
  {
   "cell_type": "code",
   "execution_count": null,
   "metadata": {},
   "outputs": [],
   "source": []
  }
 ],
 "metadata": {
  "colab": {
   "authorship_tag": "ABX9TyONJhsa3W4zYxg5b+KQiEru",
   "provenance": []
  },
  "kernelspec": {
   "display_name": "Python 3 (ipykernel)",
   "language": "python",
   "name": "python3"
  },
  "language_info": {
   "codemirror_mode": {
    "name": "ipython",
    "version": 3
   },
   "file_extension": ".py",
   "mimetype": "text/x-python",
   "name": "python",
   "nbconvert_exporter": "python",
   "pygments_lexer": "ipython3",
   "version": "3.11.5"
  }
 },
 "nbformat": 4,
 "nbformat_minor": 1
}
